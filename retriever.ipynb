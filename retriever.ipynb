{
 "cells": [
  {
   "cell_type": "code",
   "execution_count": 16,
   "id": "1c323c77",
   "metadata": {},
   "outputs": [],
   "source": [
    "# If needed:\n",
    "# !pip install sentence-transformers qdrant-client  tqdm numpy\n",
    "\n",
    "import os, json, pathlib\n",
    "from typing import List, Dict, Tuple\n",
    "from tqdm import tqdm\n",
    "import numpy as np\n",
    "import torch\n",
    "\n",
    "from sentence_transformers import SentenceTransformer\n",
    "from qdrant_client import QdrantClient\n",
    "from qdrant_client.http.models import Distance, VectorParams, PointStruct\n"
   ]
  },
  {
   "cell_type": "code",
   "execution_count": 18,
   "id": "3e40551a",
   "metadata": {},
   "outputs": [
    {
     "name": "stdout",
     "output_type": "stream",
     "text": [
      "Loaded subset → docs: 51,053 | queries: 1,000\n"
     ]
    }
   ],
   "source": [
    "SUB_DIR = \"prepared/msmarco-dev-subset-1000-plus-50000-neg\"  # <-- change to 'prepared/msmarco-dev' to use full dev set\n",
    "\n",
    "# Load corpus.jsonl\n",
    "corpus: Dict[str, Dict[str, str]] = {}\n",
    "with open(pathlib.Path(SUB_DIR) / \"corpus.jsonl\", \"r\", encoding=\"utf-8\") as f:\n",
    "    for line in f:\n",
    "        rec = json.loads(line)\n",
    "        corpus[rec[\"_id\"]] = {\"title\": rec.get(\"title\", \"\"), \"text\": rec.get(\"text\", \"\")}\n",
    "\n",
    "# Load queries.tsv\n",
    "queries: Dict[str, str] = {}\n",
    "with open(pathlib.Path(SUB_DIR) / \"queries.tsv\", \"r\", encoding=\"utf-8\") as f:\n",
    "    for line in f:\n",
    "        qid, qtext = line.rstrip(\"\\n\").split(\"\\t\", 1)\n",
    "        queries[qid] = qtext\n",
    "\n",
    "print(f\"Loaded subset → docs: {len(corpus):,} | queries: {len(queries):,}\")\n"
   ]
  },
  {
   "cell_type": "code",
   "execution_count": 12,
   "id": "34559d91",
   "metadata": {},
   "outputs": [
    {
     "data": {
      "text/plain": [
       "True"
      ]
     },
     "execution_count": 12,
     "metadata": {},
     "output_type": "execute_result"
    }
   ],
   "source": [
    "torch.cuda.is_available()"
   ]
  },
  {
   "cell_type": "code",
   "execution_count": 7,
   "id": "3c584d65",
   "metadata": {},
   "outputs": [
    {
     "name": "stdout",
     "output_type": "stream",
     "text": [
      "cuda\n"
     ]
    }
   ],
   "source": [
    "device = \"cuda\" if torch.cuda.is_available() else \"cpu\"\n",
    "print(device)"
   ]
  },
  {
   "cell_type": "code",
   "execution_count": 19,
   "id": "62e7a0c3",
   "metadata": {},
   "outputs": [
    {
     "name": "stdout",
     "output_type": "stream",
     "text": [
      "Loaded cached doc embeddings: (51053, 384)\n"
     ]
    }
   ],
   "source": [
    "CACHE_DIR = \"cache\"\n",
    "os.makedirs(CACHE_DIR, exist_ok=True)\n",
    "\n",
    "DENSE_MODEL = \"sentence-transformers/all-MiniLM-L6-v2\"\n",
    "\n",
    "encoder = SentenceTransformer(DENSE_MODEL, device=device)\n",
    "\n",
    "doc_ids = list(corpus.keys())\n",
    "doc_texts = [ (corpus[_id][\"title\"] + \" \" + corpus[_id][\"text\"]).strip() for _id in doc_ids ]\n",
    "\n",
    "EMB_PATH = pathlib.Path(CACHE_DIR) / f\"{pathlib.Path(SUB_DIR).name}_dense.npy\"\n",
    "\n",
    "if EMB_PATH.exists():\n",
    "    doc_vecs = np.load(EMB_PATH)\n",
    "    print(\"Loaded cached doc embeddings:\", doc_vecs.shape)\n",
    "else:\n",
    "    doc_vecs = encoder.encode(\n",
    "        doc_texts,\n",
    "        batch_size=256,\n",
    "        show_progress_bar=True,\n",
    "        normalize_embeddings=True\n",
    "    ).astype(np.float32)\n",
    "    np.save(EMB_PATH, doc_vecs)\n",
    "    print(\"Encoded and cached doc embeddings:\", doc_vecs.shape)\n"
   ]
  },
  {
   "cell_type": "code",
   "execution_count": 20,
   "id": "b7559f63",
   "metadata": {},
   "outputs": [
    {
     "name": "stderr",
     "output_type": "stream",
     "text": [
      "Upserting: 100%|██████████| 100/100 [00:58<00:00,  1.72it/s]"
     ]
    },
    {
     "name": "stdout",
     "output_type": "stream",
     "text": [
      "Qdrant collection ready.\n"
     ]
    },
    {
     "name": "stderr",
     "output_type": "stream",
     "text": [
      "\n"
     ]
    }
   ],
   "source": [
    "client = QdrantClient(url=\"http://localhost:6333\") # no Docker required\n",
    "\n",
    "COLLECTION = \"msmarco_subset_dense\"\n",
    "dim = doc_vecs.shape[1]\n",
    "\n",
    "# (Re)create collection\n",
    "if COLLECTION in [c.name for c in client.get_collections().collections]:\n",
    "    client.delete_collection(COLLECTION)\n",
    "\n",
    "client.create_collection(\n",
    "    collection_name=COLLECTION,\n",
    "    vectors_config=VectorParams(size=dim, distance=Distance.COSINE),\n",
    ")\n",
    "\n",
    "def batched(xs, n=512):\n",
    "    for i in range(0, len(xs), n):\n",
    "        yield xs[i:i+n]\n",
    "\n",
    "# IMPORTANT: cast IDs to int for Qdrant\n",
    "points = []\n",
    "for i in range(len(doc_ids)):\n",
    "    pid = int(doc_ids[i])            # <-- cast string \"7071642\" to int 7071642\n",
    "    points.append(\n",
    "        PointStruct(\n",
    "            id=pid,\n",
    "            vector=doc_vecs[i].tolist(),\n",
    "            payload={\n",
    "                \"doc_id\": doc_ids[i],                     # keep original string id in payload (optional)\n",
    "                \"title\": corpus[doc_ids[i]][\"title\"],\n",
    "                \"text\": corpus[doc_ids[i]][\"text\"],\n",
    "            },\n",
    "        )\n",
    "    )\n",
    "\n",
    "for batch in tqdm(list(batched(points, 512)), desc=\"Upserting\"):\n",
    "    client.upsert(collection_name=COLLECTION, points=batch)\n",
    "\n",
    "print(\"Qdrant collection ready.\")\n"
   ]
  },
  {
   "cell_type": "code",
   "execution_count": 21,
   "id": "aac7f3ca",
   "metadata": {},
   "outputs": [
    {
     "name": "stdout",
     "output_type": "stream",
     "text": [
      "\n",
      "QID: 300674\n",
      "Q  : how many years did william bradford serve as governor of plymouth colony?\n",
      " 1. 7067032  score=0.7953  | (no title)\n",
      " 2. 5974044  score=0.5225  | (no title)\n",
      " 3. 1524426  score=0.5023  | (no title)\n",
      " 4. 3100192  score=0.5021  | (no title)\n",
      " 5. 3422344  score=0.4922  | (no title)\n",
      " 6. 5040220  score=0.4154  | (no title)\n",
      " 7. 5948130  score=0.3955  | (no title)\n",
      " 8. 2638802  score=0.3927  | (no title)\n",
      " 9. 4501975  score=0.3787  | (no title)\n",
      "10. 3159717  score=0.3748  | (no title)\n",
      "\n",
      "QID: 125705\n",
      "Q  : define preventive\n",
      " 1. 7067056  score=0.8361  | (no title)\n",
      " 2. 952184  score=0.5326  | (no title)\n",
      " 3. 6724079  score=0.5305  | (no title)\n",
      " 4. 6464884  score=0.4908  | (no title)\n",
      " 5. 7301131  score=0.4253  | (no title)\n",
      " 6. 85696  score=0.4220  | (no title)\n",
      " 7. 2448091  score=0.4217  | (no title)\n",
      " 8. 3617038  score=0.4201  | (no title)\n",
      " 9. 7814229  score=0.3969  | (no title)\n",
      "10. 6876723  score=0.3897  | (no title)\n",
      "\n",
      "QID: 94798\n",
      "Q  : color overlay photoshop\n",
      " 1. 7067181  score=0.7403  | (no title)\n",
      " 2. 19707  score=0.4479  | (no title)\n",
      " 3. 375488  score=0.3585  | (no title)\n",
      " 4. 3768893  score=0.3445  | (no title)\n",
      " 5. 3398057  score=0.3360  | (no title)\n",
      " 6. 6046612  score=0.3351  | (no title)\n",
      " 7. 7674748  score=0.3287  | (no title)\n",
      " 8. 6899295  score=0.3272  | (no title)\n",
      " 9. 3468857  score=0.3235  | (no title)\n",
      "10. 4246548  score=0.3109  | (no title)\n"
     ]
    },
    {
     "name": "stderr",
     "output_type": "stream",
     "text": [
      "C:\\Users\\sarab\\AppData\\Local\\Temp\\ipykernel_40648\\2179586061.py:3: DeprecationWarning: `search` method is deprecated and will be removed in the future. Use `query_points` instead.\n",
      "  hits = client.search(collection_name=COLLECTION, query_vector=q_vec.tolist(), limit=k) #retrieval\n"
     ]
    }
   ],
   "source": [
    "def search_topk(query_text: str, k: int = 10):\n",
    "    q_vec = encoder.encode([query_text], normalize_embeddings=True)[0].astype(np.float32)\n",
    "    hits = client.search(collection_name=COLLECTION, query_vector=q_vec.tolist(), limit=k) #retrieval\n",
    "    return [(str(h.id), float(h.score)) for h in hits]  # cast back to str\n",
    "\n",
    "\n",
    "# Try on first 3 queries\n",
    "some_qids = list(queries.keys())[:3]\n",
    "for qid in some_qids:\n",
    "    q = queries[qid]\n",
    "    hits = search_topk(q, k=10)\n",
    "    print(\"\\nQID:\", qid)\n",
    "    print(\"Q  :\", q)\n",
    "    for rank, (doc_id, score) in enumerate(hits, 1):\n",
    "        title = corpus[doc_id][\"title\"] or \"(no title)\"\n",
    "        print(f\"{rank:>2}. {doc_id}  score={score:.4f}  | {title[:80]}\")\n"
   ]
  },
  {
   "cell_type": "code",
   "execution_count": 22,
   "id": "3500dee0",
   "metadata": {},
   "outputs": [
    {
     "name": "stderr",
     "output_type": "stream",
     "text": [
      "Retrieving top-10 for all queries:   0%|          | 0/1000 [00:00<?, ?it/s]C:\\Users\\sarab\\AppData\\Local\\Temp\\ipykernel_40648\\2179586061.py:3: DeprecationWarning: `search` method is deprecated and will be removed in the future. Use `query_points` instead.\n",
      "  hits = client.search(collection_name=COLLECTION, query_vector=q_vec.tolist(), limit=k) #retrieval\n",
      "Retrieving top-10 for all queries: 100%|██████████| 1000/1000 [00:36<00:00, 27.26it/s]"
     ]
    },
    {
     "name": "stdout",
     "output_type": "stream",
     "text": [
      "Retrieved results for 1000 queries.\n",
      "Saved JSON run file -> runs\\msmarco-dev-subset-1000-plus-50000-neg_dense_top10.json\n",
      "Saved TSV run file -> runs\\msmarco-dev-subset-1000-plus-50000-neg_dense_top10.tsv\n"
     ]
    },
    {
     "name": "stderr",
     "output_type": "stream",
     "text": [
      "\n"
     ]
    }
   ],
   "source": [
    "DATA_DIR = SUB_DIR\n",
    "K = 10  # top-k docs per query\n",
    "results = {}   # dict[qid] = [doc_ids]\n",
    "\n",
    "for qid, qtext in tqdm(queries.items(), desc=f\"Retrieving top-{K} for all queries\"):\n",
    "    hits = search_topk(qtext, k=K)\n",
    "    results[qid] = [doc_id for doc_id, _ in hits]\n",
    "\n",
    "print(\"Retrieved results for\", len(results), \"queries.\")\n",
    "\n",
    "# Save to JSON (easy to reload in Python)\n",
    "RUNS_DIR = \"runs\"\n",
    "os.makedirs(RUNS_DIR, exist_ok=True)\n",
    "json_path = pathlib.Path(RUNS_DIR) / f\"{pathlib.Path(DATA_DIR).name}_dense_top{K}.json\"\n",
    "with open(json_path, \"w\", encoding=\"utf-8\") as f:\n",
    "    json.dump(results, f, indent=2)\n",
    "print(\"Saved JSON run file ->\", json_path)\n",
    "\n",
    "# Also save to TSV (qid \\t docid \\t rank)\n",
    "tsv_path = pathlib.Path(RUNS_DIR) / f\"{pathlib.Path(DATA_DIR).name}_dense_top{K}.tsv\"\n",
    "with open(tsv_path, \"w\", encoding=\"utf-8\") as f:\n",
    "    for qid, docs in results.items():\n",
    "        for rank, docid in enumerate(docs, start=1):\n",
    "            f.write(f\"{qid}\\t{docid}\\t{rank}\\n\")\n",
    "print(\"Saved TSV run file ->\", tsv_path)"
   ]
  }
 ],
 "metadata": {
  "kernelspec": {
   "display_name": "Python 3",
   "language": "python",
   "name": "python3"
  },
  "language_info": {
   "codemirror_mode": {
    "name": "ipython",
    "version": 3
   },
   "file_extension": ".py",
   "mimetype": "text/x-python",
   "name": "python",
   "nbconvert_exporter": "python",
   "pygments_lexer": "ipython3",
   "version": "3.11.0rc2"
  }
 },
 "nbformat": 4,
 "nbformat_minor": 5
}
